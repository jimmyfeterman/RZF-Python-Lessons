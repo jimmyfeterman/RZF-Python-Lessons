{
 "cells": [
  {
   "cell_type": "markdown",
   "metadata": {},
   "source": [
    "<h3>Pandas will be our go-to library for organizing and pre-processing data before an analysis. </h3>"
   ]
  },
  {
   "cell_type": "code",
   "execution_count": 5,
   "metadata": {
    "collapsed": true
   },
   "outputs": [],
   "source": [
    "import pandas as pd\n",
    "import numpy as np"
   ]
  },
  {
   "cell_type": "markdown",
   "metadata": {},
   "source": [
    "    Pandas allows us to work with data in organized rows and columns. Pandas series, data frames, and panels\n",
    "    can store data with column names and indexes. "
   ]
  },
  {
   "cell_type": "code",
   "execution_count": 6,
   "metadata": {
    "collapsed": false
   },
   "outputs": [],
   "source": [
    "#the DataFrame command takes three main parameters: the data, the row index, and the column labels\n",
    "\n",
    "#Example: \n",
    "#pd.DataFrame(data,index,columns)    "
   ]
  },
  {
   "cell_type": "code",
   "execution_count": 12,
   "metadata": {
    "collapsed": false
   },
   "outputs": [
    {
     "name": "stdout",
     "output_type": "stream",
     "text": [
      "   Column1\n",
      "1        1\n",
      "2        2\n",
      "3        3\n"
     ]
    }
   ],
   "source": [
    "#We can convert lists into a dataframe by specifiying the columns and row indicies that correpsond to the dimensions of the list\n",
    "little_df = pd.DataFrame([1,2,3], index= [1,2,3],columns = ['Column1'])\n",
    "print(little_df)"
   ]
  },
  {
   "cell_type": "code",
   "execution_count": 10,
   "metadata": {
    "collapsed": false
   },
   "outputs": [
    {
     "name": "stdout",
     "output_type": "stream",
     "text": [
      "{'Name': ['Jimmy', 'John'], 'Age': [25, 45], 'Hometown': ['Miami', 'Kuala Lumpur']}\n"
     ]
    }
   ],
   "source": [
    "#Converting dictionaries into dataframes\n",
    "\n",
    "#first create the dictionary\n",
    "my_dict = {'Name':['Jimmy','John'], 'Age':[25,45], 'Hometown':['Miami','Kuala Lumpur']}\n",
    "print(my_dict)"
   ]
  },
  {
   "cell_type": "code",
   "execution_count": 11,
   "metadata": {
    "collapsed": false
   },
   "outputs": [
    {
     "name": "stdout",
     "output_type": "stream",
     "text": [
      "   Age      Hometown   Name\n",
      "0   25         Miami  Jimmy\n",
      "1   45  Kuala Lumpur   John\n"
     ]
    }
   ],
   "source": [
    "#convert the dictionary into a df\n",
    "friends = pd.DataFrame(my_dict)\n",
    "print(friends)"
   ]
  },
  {
   "cell_type": "code",
   "execution_count": 43,
   "metadata": {
    "collapsed": false
   },
   "outputs": [],
   "source": [
    "#convert an array into a df\n",
    "numpy_array1 = np.array([[5,4,5],[10,40,800]])"
   ]
  },
  {
   "cell_type": "code",
   "execution_count": 47,
   "metadata": {
    "collapsed": false
   },
   "outputs": [
    {
     "name": "stdout",
     "output_type": "stream",
     "text": [
      "   uno  two  tres\n",
      "a    5    4     5\n",
      "b   10   40   800\n"
     ]
    }
   ],
   "source": [
    "df2 = pd.DataFrame(numpy_array1, index = ['a','b'], \n",
    "                            columns = ['uno','two','tres'])\n",
    "print(df2)"
   ]
  },
  {
   "cell_type": "code",
   "execution_count": null,
   "metadata": {
    "collapsed": false
   },
   "outputs": [],
   "source": [
    "#Data Frames can be created using different data objects like arrays, series, or other data frames.\n",
    "\n",
    "# Take a 2D array as input to your DataFrame \n",
    "my_2darray = np.array([[1, 2, 3], [4, 5, 6]])\n",
    "print(__________)\n",
    "\n",
    "# Take a dictionary as input to your DataFrame \n",
    "my_dict = {1: ['1', '3'], 2: ['1', '2'], 3: ['2', '4']}\n",
    "print(________________)\n",
    "\n",
    "# Take a DataFrame as input to your DataFrame \n",
    "my_df = pd.DataFrame(data=[4,5,6,7], index=range(0,4), columns=['A'])\n",
    "print(________________)\n",
    "\n",
    "# Take a Series as input to your DataFrame\n",
    "my_series = pd.Series({\"Belgium\":\"Brussels\", \"India\":\"New Delhi\", \"United Kingdom\":\"London\", \"United States\":\"Washington\"})\n",
    "print(________________)"
   ]
  },
  {
   "cell_type": "code",
   "execution_count": 14,
   "metadata": {
    "collapsed": false
   },
   "outputs": [
    {
     "name": "stdout",
     "output_type": "stream",
     "text": [
      "   A  B  C\n",
      "1  1  2  3\n",
      "2  4  5  6\n"
     ]
    }
   ],
   "source": [
    "my_2darray = np.array([[1, 2, 3], [4, 5, 6]])\n",
    "print(pd.DataFrame(my_2darray, index = ['1','2'], columns = ['A', 'B', 'C']))"
   ]
  },
  {
   "cell_type": "code",
   "execution_count": 19,
   "metadata": {
    "collapsed": false
   },
   "outputs": [
    {
     "name": "stdout",
     "output_type": "stream",
     "text": [
      "   1  2  3\n",
      "0  1  1  2\n",
      "1  3  2  4\n"
     ]
    }
   ],
   "source": [
    "my_dict = {1: ['1', '3'], 2: ['1', '2'], 3: ['2', '4']}\n",
    "print(pd.DataFrame(my_dict, index = [0,1]))"
   ]
  },
  {
   "cell_type": "code",
   "execution_count": 21,
   "metadata": {
    "collapsed": false
   },
   "outputs": [
    {
     "name": "stdout",
     "output_type": "stream",
     "text": [
      "   A\n",
      "0  4\n",
      "1  5\n",
      "2  6\n",
      "3  7\n"
     ]
    }
   ],
   "source": [
    "my_df = pd.DataFrame(data=[4,5,6,7], index=range(0,4), columns=['A'])\n",
    "print(pd.DataFrame(my_df))"
   ]
  },
  {
   "cell_type": "code",
   "execution_count": 50,
   "metadata": {
    "collapsed": false
   },
   "outputs": [
    {
     "name": "stdout",
     "output_type": "stream",
     "text": [
      "                      City\n",
      "Belgium           Brussels\n",
      "India            New Delhi\n",
      "United Kingdom      London\n",
      "United States   Washington\n"
     ]
    }
   ],
   "source": [
    "my_series = pd.Series({\"Belgium\":\"Brussels\", \"India\":\"New Delhi\", \"United Kingdom\":\"London\", \"United States\":\"Washington\"})\n",
    "print(pd.DataFrame(my_series, columns = ['City']))\n",
    "#notice that the country names became the rows!"
   ]
  },
  {
   "cell_type": "markdown",
   "metadata": {},
   "source": [
    "    Let's return to our the 'friends' dataframe and inspect it!"
   ]
  },
  {
   "cell_type": "code",
   "execution_count": 51,
   "metadata": {
    "collapsed": false
   },
   "outputs": [
    {
     "name": "stdout",
     "output_type": "stream",
     "text": [
      "   Age      Hometown   Name\n",
      "0   25         Miami  Jimmy\n",
      "1   45  Kuala Lumpur   John\n"
     ]
    }
   ],
   "source": [
    "print(friends)"
   ]
  },
  {
   "cell_type": "code",
   "execution_count": 52,
   "metadata": {
    "collapsed": false
   },
   "outputs": [
    {
     "name": "stdout",
     "output_type": "stream",
     "text": [
      "0    25\n",
      "1    45\n",
      "Name: Age, dtype: int64\n"
     ]
    }
   ],
   "source": [
    "#column-wise\n",
    "print(friends['Age'])"
   ]
  },
  {
   "cell_type": "code",
   "execution_count": 53,
   "metadata": {
    "collapsed": false
   },
   "outputs": [
    {
     "data": {
      "text/plain": [
       "70"
      ]
     },
     "execution_count": 53,
     "metadata": {},
     "output_type": "execute_result"
    }
   ],
   "source": [
    "friends['Age'].sum()"
   ]
  },
  {
   "cell_type": "code",
   "execution_count": 54,
   "metadata": {
    "collapsed": false
   },
   "outputs": [
    {
     "data": {
      "text/plain": [
       "35.0"
      ]
     },
     "execution_count": 54,
     "metadata": {},
     "output_type": "execute_result"
    }
   ],
   "source": [
    "friends['Age'].mean()"
   ]
  }
 ],
 "metadata": {
  "kernelspec": {
   "display_name": "Python 3",
   "language": "python",
   "name": "python3"
  },
  "language_info": {
   "codemirror_mode": {
    "name": "ipython",
    "version": 3
   },
   "file_extension": ".py",
   "mimetype": "text/x-python",
   "name": "python",
   "nbconvert_exporter": "python",
   "pygments_lexer": "ipython3",
   "version": "3.5.1"
  }
 },
 "nbformat": 4,
 "nbformat_minor": 0
}
