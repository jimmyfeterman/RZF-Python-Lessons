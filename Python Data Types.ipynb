{
 "cells": [
  {
   "cell_type": "markdown",
   "metadata": {
    "collapsed": true
   },
   "source": [
    "<h2>Python lesson #1"
   ]
  },
  {
   "cell_type": "code",
   "execution_count": 2,
   "metadata": {
    "collapsed": false
   },
   "outputs": [
    {
     "data": {
      "text/plain": [
       "4"
      ]
     },
     "execution_count": 2,
     "metadata": {},
     "output_type": "execute_result"
    }
   ],
   "source": [
    "y = 4\n",
    "\n",
    "y"
   ]
  },
  {
   "cell_type": "code",
   "execution_count": 3,
   "metadata": {
    "collapsed": false
   },
   "outputs": [
    {
     "name": "stdout",
     "output_type": "stream",
     "text": [
      "8\n"
     ]
    }
   ],
   "source": [
    "y = y*2\n",
    "print(y)"
   ]
  },
  {
   "cell_type": "code",
   "execution_count": 4,
   "metadata": {
    "collapsed": false
   },
   "outputs": [
    {
     "name": "stdout",
     "output_type": "stream",
     "text": [
      "9\n"
     ]
    }
   ],
   "source": [
    "h = 3**2\n",
    "\n",
    "print(h)"
   ]
  },
  {
   "cell_type": "code",
   "execution_count": 5,
   "metadata": {
    "collapsed": false
   },
   "outputs": [
    {
     "data": {
      "text/plain": [
       "17"
      ]
     },
     "execution_count": 5,
     "metadata": {},
     "output_type": "execute_result"
    }
   ],
   "source": [
    "h + y"
   ]
  },
  {
   "cell_type": "markdown",
   "metadata": {},
   "source": [
    "    To make a note within your code use the '#' symbol at the begining of the text and then type your message"
   ]
  },
  {
   "cell_type": "code",
   "execution_count": 6,
   "metadata": {
    "collapsed": true
   },
   "outputs": [],
   "source": [
    "#This is just a note. It won't run as code"
   ]
  },
  {
   "cell_type": "markdown",
   "metadata": {},
   "source": [
    "**Python Data Object Types**   "
   ]
  },
  {
   "cell_type": "markdown",
   "metadata": {},
   "source": [
    "   * Lists : A way to store values in which each value indexed/numbered. You can add and remove items from a  list even after defining it.\n"
   ]
  },
  {
   "cell_type": "code",
   "execution_count": 7,
   "metadata": {
    "collapsed": false
   },
   "outputs": [
    {
     "name": "stdout",
     "output_type": "stream",
     "text": [
      "[1, 10, 5, 11]\n"
     ]
    }
   ],
   "source": [
    "#Lists: \n",
    "\n",
    "#Creating a list\n",
    "favorite_numbers=[1, 10, 5, 11]\n",
    "\n",
    "print(favorite_numbers)"
   ]
  },
  {
   "cell_type": "markdown",
   "metadata": {},
   "source": [
    "    We can apply different methods to lists"
   ]
  },
  {
   "cell_type": "code",
   "execution_count": 8,
   "metadata": {
    "collapsed": false
   },
   "outputs": [
    {
     "name": "stdout",
     "output_type": "stream",
     "text": [
      "[1, 5, 10, 11]\n"
     ]
    }
   ],
   "source": [
    "favorite_numbers.sort()\n",
    "\n",
    "print(favorite_numbers)"
   ]
  },
  {
   "cell_type": "code",
   "execution_count": 9,
   "metadata": {
    "collapsed": false
   },
   "outputs": [
    {
     "name": "stdout",
     "output_type": "stream",
     "text": [
      "[11, 10, 5, 1]\n"
     ]
    }
   ],
   "source": [
    "favorite_numbers.reverse()\n",
    "\n",
    "print(favorite_numbers)"
   ]
  },
  {
   "cell_type": "code",
   "execution_count": 10,
   "metadata": {
    "collapsed": false
   },
   "outputs": [
    {
     "data": {
      "text/plain": [
       "5"
      ]
     },
     "execution_count": 10,
     "metadata": {},
     "output_type": "execute_result"
    }
   ],
   "source": [
    "favorite_numbers[2]"
   ]
  },
  {
   "cell_type": "code",
   "execution_count": 11,
   "metadata": {
    "collapsed": false
   },
   "outputs": [
    {
     "name": "stdout",
     "output_type": "stream",
     "text": [
      "[11, 10, 5, 1, 15, 'eleven']\n"
     ]
    }
   ],
   "source": [
    "#Adding and removing data from the list\n",
    "favorite_numbers.append(15)\n",
    "favorite_numbers.append('eleven')\n",
    "print(favorite_numbers)"
   ]
  },
  {
   "cell_type": "code",
   "execution_count": 12,
   "metadata": {
    "collapsed": false
   },
   "outputs": [
    {
     "name": "stdout",
     "output_type": "stream",
     "text": [
      "['Taj Mahal', 'Pyramids of Giza', 'Suomenlinna', 15]\n"
     ]
    }
   ],
   "source": [
    "#define a new list\n",
    "favorite_places = ['Taj Mahal', 'Pyramids of Giza', 'Suomenlinna']\n",
    "#Some operations\n",
    "favorite_places.append(15)\n",
    "print(favorite_places)\n",
    "\n",
    "#For more methods on list objects check out: https://docs.python.org/3/tutorial/datastructures.html"
   ]
  },
  {
   "cell_type": "markdown",
   "metadata": {},
   "source": [
    "   * Tuples : Like lists but the data in the tuple can not be changed."
   ]
  },
  {
   "cell_type": "code",
   "execution_count": 13,
   "metadata": {
    "collapsed": false
   },
   "outputs": [
    {
     "name": "stdout",
     "output_type": "stream",
     "text": [
      "June\n",
      "February\n"
     ]
    }
   ],
   "source": [
    "#Tuples: Creating a tuple and indexing\n",
    "\n",
    "#Creating a tuple\n",
    "Months = ('January', 'February', 'March', 'April', 'May', 'June', 'July', 'August', 'September', 'October', 'November','December')\n",
    "\n",
    "#Indexing tuple\n",
    "print(Months[5])\n",
    "print(Months[1])"
   ]
  },
  {
   "cell_type": "markdown",
   "metadata": {},
   "source": [
    "* Dictionaries:  A way to store data where we define a key and its corresponding value(s)"
   ]
  },
  {
   "cell_type": "code",
   "execution_count": 14,
   "metadata": {
    "collapsed": false
   },
   "outputs": [
    {
     "data": {
      "text/plain": [
       "{'Egypt': 'Cairo',\n",
       " 'Favorite Attractions': ['Taj Mahal', 'Pyramids of Giza', 'Suomenlinna', 15],\n",
       " 'Finland': 'Helsinki',\n",
       " 'India': 'New Delhi',\n",
       " 'Rwanda': 'Kigali'}"
      ]
     },
     "execution_count": 14,
     "metadata": {},
     "output_type": "execute_result"
    }
   ],
   "source": [
    "#Dictionaries: \n",
    "\n",
    "#Creating dictionaries\n",
    "capitals = {}\n",
    "capitals[\"Egypt\"] = \"Cairo\"\n",
    "capitals[\"Finland\"] = \"Helsinki\"\n",
    "\n",
    "#Another dictionary, this time defined differently from above\n",
    "other_capitals = {\"India\": \"New Delhi\", \"Egypt\" : \"Cairo\"}\n",
    "\n",
    "#Joining two dictionaries\n",
    "capitals.update(other_capitals)\n",
    "\n",
    "#Adding new keys\n",
    "capitals[\"Rwanda\"] = \"Kigali\"\n",
    "capitals[\"Favorite Attractions\"] = favorite_places\n",
    "\n",
    "capitals"
   ]
  },
  {
   "cell_type": "code",
   "execution_count": 15,
   "metadata": {
    "collapsed": false
   },
   "outputs": [
    {
     "data": {
      "text/plain": [
       "'Cairo'"
      ]
     },
     "execution_count": 15,
     "metadata": {},
     "output_type": "execute_result"
    }
   ],
   "source": [
    "capitals['Egypt']"
   ]
  },
  {
   "cell_type": "markdown",
   "metadata": {},
   "source": [
    "    A small function to motivate lesson next week."
   ]
  },
  {
   "cell_type": "code",
   "execution_count": 16,
   "metadata": {
    "collapsed": true
   },
   "outputs": [],
   "source": [
    "def square_dancer(x):\n",
    "    x=x**2\n",
    "    return x"
   ]
  },
  {
   "cell_type": "code",
   "execution_count": 17,
   "metadata": {
    "collapsed": false
   },
   "outputs": [
    {
     "data": {
      "text/plain": [
       "25"
      ]
     },
     "execution_count": 17,
     "metadata": {},
     "output_type": "execute_result"
    }
   ],
   "source": [
    "square_dancer(5)"
   ]
  }
 ],
 "metadata": {
  "kernelspec": {
   "display_name": "Python 3",
   "language": "python",
   "name": "python3"
  },
  "language_info": {
   "codemirror_mode": {
    "name": "ipython",
    "version": 3
   },
   "file_extension": ".py",
   "mimetype": "text/x-python",
   "name": "python",
   "nbconvert_exporter": "python",
   "pygments_lexer": "ipython3",
   "version": "3.5.1"
  }
 },
 "nbformat": 4,
 "nbformat_minor": 0
}
